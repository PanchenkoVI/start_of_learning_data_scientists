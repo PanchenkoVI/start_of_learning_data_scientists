{
 "cells": [
  {
   "cell_type": "markdown",
   "metadata": {
    "toc": true
   },
   "source": [
    "<h1>Table of Contents<span class=\"tocSkip\"></span></h1>\n",
    "<div class=\"toc\"><ul class=\"toc-item\"></ul></div>"
   ]
  },
  {
   "cell_type": "markdown",
   "metadata": {
    "id": "dH7qx_irU4Y8"
   },
   "source": [
    "###ML1_1: \n",
    "https://www.hackerrank.com/challenges/capturing-non-capturing-groups/problem?isFullScreen=true\n",
    "\n",
    "###ML1_2: \n",
    "https://www.hackerrank.com/challenges/branch-reset-groups/problem?isFullScreen=true\n",
    "\n",
    "###ML1_3: \n",
    "https://www.hackerrank.com/challenges/detect-html-links/problem?isFullScreen=true\n",
    "\n",
    "###ML1_4: Реализовать stemming, lemmatization & BoW на следующем датасете: https://cloud.mail.ru/public/Z4L3/vB8GcgTtK (Russian Toxic-abuse comments)"
   ]
  },
  {
   "cell_type": "code",
   "execution_count": null,
   "metadata": {},
   "outputs": [],
   "source": [
    "# ML1_1: https://www.hackerrank.com/challenges/capturing-non-capturing-groups/problem?isFullScreen=true\n",
    "\n",
    "pattern = '(?:ok){3,}'"
   ]
  },
  {
   "cell_type": "code",
   "execution_count": null,
   "metadata": {
    "id": "xJfkstKpqsXp"
   },
   "outputs": [],
   "source": [
    "# ML1_2: https://www.hackerrank.com/challenges/branch-reset-groups/problem?isFullScreen=true\n",
    "# java\n",
    "\n",
    "import java.io.*;\n",
    "import java.util.*;\n",
    "import java.io.BufferedReader;\n",
    "import java.util.regex.*;  \n",
    "\n",
    "public class Solution {\n",
    "\n",
    "    public static void main(String[] args) {\n",
    "        Scanner s = new Scanner(System.in);\n",
    "        while(s.hasNextLine())\n",
    "        {\n",
    "            String line = s.nextLine();\n",
    "            boolean b2 = Pattern.compile(\"^\\\\d{2}(\\\\-\\\\-\\\\-|\\\\-|\\\\.|\\\\:)\\\\d{2}\\\\1\\\\d{2}\\\\1\\\\d{2}$\").matcher(line).matches();  \n",
    "            System.out.println(b2);\n",
    "        }\n",
    "    }\n",
    "}"
   ]
  },
  {
   "cell_type": "code",
   "execution_count": null,
   "metadata": {},
   "outputs": [],
   "source": [
    "# ML1_3: https://www.hackerrank.com/challenges/detect-html-links/problem?isFullScreen=true\n",
    "\n",
    "import re\n",
    "regx = r'<a\\s+href\\=[\\\"\\']([^\\\"\\']+).*?\\>(.*?)<\\/a'\n",
    "\n",
    "for _ in range(int(input())):\n",
    "    for link,ttl in re.findall(regx,input()) :\n",
    "        ttl = re.sub(r'\\<.*?\\>','',ttl).strip()\n",
    "        print(f'{link},{ttl}')"
   ]
  }
 ],
 "metadata": {
  "colab": {
   "name": "NLP1_homework",
   "provenance": [],
   "toc_visible": true
  },
  "kernelspec": {
   "display_name": "Python 3 (ipykernel)",
   "language": "python",
   "name": "python3"
  },
  "language_info": {
   "codemirror_mode": {
    "name": "ipython",
    "version": 3
   },
   "file_extension": ".py",
   "mimetype": "text/x-python",
   "name": "python",
   "nbconvert_exporter": "python",
   "pygments_lexer": "ipython3",
   "version": "3.9.7"
  },
  "toc": {
   "base_numbering": 1,
   "nav_menu": {},
   "number_sections": true,
   "sideBar": true,
   "skip_h1_title": false,
   "title_cell": "Table of Contents",
   "title_sidebar": "Contents",
   "toc_cell": true,
   "toc_position": {},
   "toc_section_display": true,
   "toc_window_display": false
  }
 },
 "nbformat": 4,
 "nbformat_minor": 1
}
