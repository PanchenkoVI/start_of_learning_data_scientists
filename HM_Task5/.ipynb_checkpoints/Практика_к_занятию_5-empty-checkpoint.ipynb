{
 "cells": [
  {
   "cell_type": "markdown",
   "metadata": {
    "toc": true
   },
   "source": [
    "<h1>Table of Contents<span class=\"tocSkip\"></span></h1>\n",
    "<div class=\"toc\"><ul class=\"toc-item\"><li><span><a href=\"#Практика\" data-toc-modified-id=\"Практика-1\"><span class=\"toc-item-num\">1&nbsp;&nbsp;</span>Практика</a></span><ul class=\"toc-item\"><li><span><a href=\"#ЦПТ-для-различных-распределений\" data-toc-modified-id=\"ЦПТ-для-различных-распределений-1.1\"><span class=\"toc-item-num\">1.1&nbsp;&nbsp;</span>ЦПТ для различных распределений</a></span><ul class=\"toc-item\"><li><span><a href=\"#Сгенерируйте-примеры-из-распределения\" data-toc-modified-id=\"Сгенерируйте-примеры-из-распределения-1.1.1\"><span class=\"toc-item-num\">1.1.1&nbsp;&nbsp;</span>Сгенерируйте примеры из распределения</a></span></li><li><span><a href=\"#Постройте-гистограмму-выборки-и-теоретическую-плотность-распределения\" data-toc-modified-id=\"Постройте-гистограмму-выборки-и-теоретическую-плотность-распределения-1.1.2\"><span class=\"toc-item-num\">1.1.2&nbsp;&nbsp;</span>Постройте гистограмму выборки и теоретическую плотность распределения</a></span></li><li><span><a href=\"#Оценим-распределение-выборочного-среднего-для-разных-объёмов-выборок\" data-toc-modified-id=\"Оценим-распределение-выборочного-среднего-для-разных-объёмов-выборок-1.1.3\"><span class=\"toc-item-num\">1.1.3&nbsp;&nbsp;</span>Оценим распределение выборочного среднего для разных объёмов выборок</a></span></li></ul></li><li><span><a href=\"#Доверительный-интервал-на-основе-ЦПТ\" data-toc-modified-id=\"Доверительный-интервал-на-основе-ЦПТ-1.2\"><span class=\"toc-item-num\">1.2&nbsp;&nbsp;</span>Доверительный интервал на основе ЦПТ</a></span></li></ul></li></ul></div>"
   ]
  },
  {
   "cell_type": "markdown",
   "metadata": {
    "id": "pDrecLU-4QjS"
   },
   "source": [
    "# Практика"
   ]
  },
  {
   "cell_type": "code",
   "execution_count": 1,
   "metadata": {
    "id": "a6XFMuQUG6jO"
   },
   "outputs": [],
   "source": [
    "import pandas as pd\n",
    "import numpy as np\n",
    "import matplotlib.pyplot as plt\n",
    "import scipy.stats as sts\n",
    "import math\n",
    "%matplotlib inline\n",
    "import warnings\n",
    "warnings.filterwarnings('ignore')"
   ]
  },
  {
   "cell_type": "markdown",
   "metadata": {
    "id": "5owLnS0MHJnz"
   },
   "source": [
    "## ЦПТ для различных распределений\n",
    "Возьмите то непрерывное распределение, которое вам больше всего понравится из списка доступных в модуле [scipy.stats](https://docs.scipy.org/doc/scipy/reference/stats.html)."
   ]
  },
  {
   "cell_type": "markdown",
   "metadata": {
    "id": "v1IvIGF9IRgH"
   },
   "source": [
    "### Сгенерируйте примеры из распределения"
   ]
  },
  {
   "cell_type": "code",
   "execution_count": 2,
   "metadata": {
    "colab": {
     "base_uri": "https://localhost:8080/",
     "height": 377
    },
    "id": "l4oTC1NSHvl7",
    "outputId": "52df1553-6d91-4452-9ade-e2a62a8d7ff2"
   },
   "outputs": [
    {
     "data": {
      "text/plain": [
       "array([0.41897464, 0.86976095, 0.42761624, 0.05222129, 0.46701009,\n",
       "       0.23196168, 0.99920755, 0.62944485, 0.10718986, 0.94212278,\n",
       "       0.04355361, 0.02092091, 0.33582154, 0.04267488, 0.42367014,\n",
       "       0.80121545, 0.80155481, 0.1749551 , 0.99983134, 0.98292861,\n",
       "       0.89848478, 0.17522331, 0.71371172, 0.12892643, 0.24384954,\n",
       "       0.50872365, 0.64481984, 0.01308502, 0.11105684, 0.17524533,\n",
       "       0.20385958, 0.33694295, 0.84051973, 0.89377141, 0.99120955,\n",
       "       0.49319412, 0.9554962 , 0.58843466, 0.41856694, 0.68707348,\n",
       "       0.0564719 , 0.92081096, 0.03522066, 0.9967841 , 0.32741877,\n",
       "       0.36447133, 0.83124905, 0.77024104, 0.98606752, 0.74665455,\n",
       "       0.04618496, 0.58139096, 0.8723789 , 0.09644963, 0.87833507,\n",
       "       0.42027935, 0.02259129, 0.7380129 , 0.42619699, 0.09862568,\n",
       "       0.80799371, 0.2275883 , 0.04080099, 0.27270101, 0.22845841,\n",
       "       0.43321432, 0.01349173, 0.04007941, 0.37087554, 0.32660486,\n",
       "       0.94791261, 0.02464143, 0.68551602, 0.02011778, 0.01564379,\n",
       "       0.01256616, 0.95939407, 0.93093694, 0.97916983, 0.08658997,\n",
       "       0.85270231, 0.57201316, 0.97296826, 0.76636223, 0.38665923,\n",
       "       0.09049397, 0.0126818 , 0.8726745 , 0.49269771, 0.9995836 ,\n",
       "       0.98224162, 0.1153238 , 0.60601081, 0.01335063, 0.72237559,\n",
       "       0.16718595, 0.99504352, 0.75540259, 0.16885724, 0.05782316])"
      ]
     },
     "execution_count": 2,
     "metadata": {},
     "output_type": "execute_result"
    }
   ],
   "source": [
    "# ваш код тут\n",
    "# например вот такое распределение https://docs.scipy.org/doc/scipy/reference/generated/scipy.stats.cosine.html#scipy.stats.cosine\n",
    "arcsine_rv = sts.arcsine(0.01, 0.99)\n",
    "sample = arcsine_rv.rvs(100)\n",
    "sample"
   ]
  },
  {
   "cell_type": "code",
   "execution_count": 3,
   "metadata": {
    "colab": {
     "base_uri": "https://localhost:8080/",
     "height": 35
    },
    "id": "ScsjsI4oXgKR",
    "outputId": "86833794-f43b-436e-a0e4-c3b7483df016"
   },
   "outputs": [
    {
     "data": {
      "text/plain": [
       "dtype('float64')"
      ]
     },
     "execution_count": 3,
     "metadata": {},
     "output_type": "execute_result"
    }
   ],
   "source": [
    "sample.dtype"
   ]
  },
  {
   "cell_type": "code",
   "execution_count": 4,
   "metadata": {
    "id": "pXTNSqAOCYX4"
   },
   "outputs": [
    {
     "name": "stdout",
     "output_type": "stream",
     "text": [
      "0.505\n",
      "0.1225125\n"
     ]
    }
   ],
   "source": [
    "real_mean = arcsine_rv.mean() # настоящее среднее случайной величины\n",
    "real_var = arcsine_rv.var() # настоящая дисперсия случайной величины\n",
    "print(real_mean,real_var,sep='\\n')"
   ]
  },
  {
   "cell_type": "markdown",
   "metadata": {
    "id": "4bNn15giIX77"
   },
   "source": [
    "### Постройте гистограмму выборки и теоретическую плотность распределения"
   ]
  },
  {
   "cell_type": "code",
   "execution_count": 5,
   "metadata": {
    "colab": {
     "base_uri": "https://localhost:8080/",
     "height": 283
    },
    "id": "CwbvqecvIcXN",
    "outputId": "ace01d5d-2552-499b-bc4f-1eb19166af83"
   },
   "outputs": [
    {
     "data": {
      "text/plain": [
       "<matplotlib.legend.Legend at 0x7ff0af1340a0>"
      ]
     },
     "execution_count": 5,
     "metadata": {},
     "output_type": "execute_result"
    },
    {
     "data": {
      "image/png": "[encoded data removed]",
      "text/plain": [
       "<Figure size 504x504 with 1 Axes>"
      ]
     },
     "metadata": {
      "needs_background": "light"
     },
     "output_type": "display_data"
    }
   ],
   "source": [
    "# ваш код тут\n",
    "plt.figure(figsize=(7,7))\n",
    "plt.hist(sample, density=True)\n",
    "x = np.linspace(-2,2,100)\n",
    "pdf = arcsine_rv.pdf(x)\n",
    "plt.plot(x, pdf, label='теоретическая плотность', alpha=0.5)\n",
    "plt.legend()"
   ]
  },
  {
   "cell_type": "code",
   "execution_count": 6,
   "metadata": {
    "colab": {
     "base_uri": "https://localhost:8080/",
     "height": 51
    },
    "id": "rKd5XFelBqe7",
    "outputId": "32773b82-a3e9-46a2-b06d-a94d667d4f66"
   },
   "outputs": [
    {
     "name": "stdout",
     "output_type": "stream",
     "text": [
      "0.480374155578223\n",
      "0.12440913764253267\n"
     ]
    }
   ],
   "source": [
    "sample_mean = sample.mean() # выборочное среднее\n",
    "print(sample_mean)\n",
    "sample_var = sample.var() # выборочная дисперсия\n",
    "print(sample_var)"
   ]
  },
  {
   "cell_type": "markdown",
   "metadata": {
    "id": "qPuHR68NId_Z"
   },
   "source": [
    "### Оценим распределение выборочного среднего для разных объёмов выборок\n",
    "Для этого постройте на одном полотне гистограмму выборочных средних и теоретическое распределение выборочных средних по ЦПТ (центральная предельная теорема) для разных объёмов выборок.\n",
    "\n",
    "Для теоретического распределение используйте настоящие значения мат ожидания и дисперсии (не приближенные на основе выборки)."
   ]
  },
  {
   "cell_type": "code",
   "execution_count": 7,
   "metadata": {
    "id": "_mB8upK7J58w"
   },
   "outputs": [
    {
     "data": {
      "image/png": "[encoded data removed]",
      "text/plain": [
       "<Figure size 936x360 with 1 Axes>"
      ]
     },
     "metadata": {
      "needs_background": "light"
     },
     "output_type": "display_data"
    }
   ],
   "source": [
    "plt.figure(figsize=(13,5))\n",
    "\n",
    "for N in [10, 25, 50, 100, 1000, 10000, 100000]:\n",
    "    means = []\n",
    "    for i in range(1000):\n",
    "         means.append(np.mean(arcsine_rv.rvs(N)))\n",
    "    plt.hist(means, alpha=0.5)\n",
    "\n",
    "plt.legend(['10','25', '50', '100', '1000', '10000','100000'])\n",
    "plt.show()"
   ]
  },
  {
   "cell_type": "markdown",
   "metadata": {
    "id": "TF1onBy_J7sX"
   },
   "source": [
    "Как вы считаете, для выбранного распределения апроксимация распределения выборочного среднего работает хорошо или плохо?\n",
    "**Ваш ответ:**\n",
    "Чем больше значений тем уже график. Значения приближены к значениям дисперсии и средней арифметической. Однако при маленьких значениях выборки апроксимация ведет себя хаотично. "
   ]
  },
  {
   "cell_type": "markdown",
   "metadata": {
    "id": "xEyWxfjSfxGp"
   },
   "source": [
    "## Доверительный интервал на основе ЦПТ\n",
    "Возьмите данные для оттока телеком компании, и постройте доверительные интервалы для среднего значения total day calls, используя центральную предельную теорему в разбиении по колонке churn (ушел/не ушел). \n",
    "\n",
    "Для оценки дисперсии используйте несмещенную оценку (параметр ddof=1).\n",
    "\n",
    "Сделайте оценку с использованием явной формулы для z интервала, а затем с помощью функций \n",
    "`from statsmodels.stats.weightstats import _zconfint_generic`. Сравните результаты.\n",
    "\n",
    "\n",
    "Ссылка на данные: https://drive.google.com/file/d/1X_drKqoarnU2Sz2har7uSCsgyhh8Xtz8/view?usp=sharing"
   ]
  },
  {
   "cell_type": "code",
   "execution_count": 12,
   "metadata": {},
   "outputs": [],
   "source": [
    "# либо загружаем из альтернативного хранилища\n",
    "from statsmodels.stats.weightstats import _zconfint_generic\n",
    "\n",
    "url =\"https://raw.githubusercontent.com/piton1/DS/Lesson_5/telecom_churn.csv\"\n",
    "df=pd.read_csv(url)\n",
    "# display(df)"
   ]
  },
  {
   "cell_type": "code",
   "execution_count": 9,
   "metadata": {},
   "outputs": [
    {
     "name": "stdout",
     "output_type": "stream",
     "text": [
      "Осталось = 2850\n",
      "Всего ушло = 483\n",
      "\n",
      "Среднее значение по тем кто остался = 101.335\n",
      "Дисперсия по тем кто остался = 21.582\n",
      "\n",
      "Среднее значение по тем кто ушел = 100.283\n",
      "Дисперсия по тем кто ушел = 19.801\n"
     ]
    }
   ],
   "source": [
    "df1 = df[['churn','total day calls']]\n",
    "\n",
    "t_len = df1.value_counts('churn')[0]\n",
    "f_len = df1.value_counts('churn')[1]\n",
    "\n",
    "print('Осталось = ' + str(t_len))\n",
    "print('Всего ушло = ' + str(f_len))\n",
    "\n",
    "df2 = df1[df1['churn'] == True].copy()\n",
    "df3 = df1[df1['churn'] == False].copy()\n",
    "\n",
    "t_mean = df2['total day calls'].mean()\n",
    "t_std = df2['total day calls'].std(ddof=1)\n",
    "print('\\nСреднее значение по тем кто остался = ' + str(round(t_mean, 3)))\n",
    "print('Дисперсия по тем кто остался = ' + str(round(t_std,3)))\n",
    "\n",
    "f_mean = df3['total day calls'].mean()\n",
    "f_std = df3['total day calls'].std(ddof=1)\n",
    "print('\\nСреднее значение по тем кто ушел = ' + str(round(f_mean, 3)))\n",
    "print('Дисперсия по тем кто ушел = ' + str(round(f_std,3)))\n"
   ]
  },
  {
   "cell_type": "code",
   "execution_count": 10,
   "metadata": {},
   "outputs": [
    {
     "name": "stdout",
     "output_type": "stream",
     "text": [
      "Анализ доверительных интервалов по ЦПТ со значением churn = True\n",
      "\n",
      "Расчет на основе известного выборочного std: (100.54, 102.13)\n",
      "Методом _zconfint_generic: 59.03  143.64\n",
      "Если известно выборочное std (без учёта размера выборки):(59.03, 143.64)\n"
     ]
    }
   ],
   "source": [
    "print('Анализ доверительных интервалов по ЦПТ со значением churn = True\\n')\n",
    "\n",
    "print(f\"Расчет на основе известного выборочного std: \"f\"({(t_mean - 1.96 * t_std / np.sqrt(t_len - 1)):.2f}, {round(t_mean + 1.96 * t_std / np.sqrt(t_len - 1), 2)})\")\n",
    "\n",
    "a = list(_zconfint_generic(t_mean,  t_std, alpha=0.05, alternative='two-sided'))\n",
    "print(\"Методом _zconfint_generic: {} \".format(str(round(a[0],2))),str(round(a[1],2)))\n",
    "\n",
    "print(f\"Если известно выборочное std (без учёта размера выборки):\"f\"({(t_mean - 1.96 * t_std):.2f}, {round(t_mean + 1.96 * t_std , 2)})\")"
   ]
  },
  {
   "cell_type": "code",
   "execution_count": 11,
   "metadata": {},
   "outputs": [
    {
     "name": "stdout",
     "output_type": "stream",
     "text": [
      "Анализ доверительных интервалов по ЦПТ со значением churn = False\n",
      "\n",
      "Расчет на основе известного выборочного std: (98.52, 102.05)\n",
      "Методом _zconfint_generic: 61.47  139.09\n",
      "Если известно выборочное std (без учёта размера выборки):(61.47, 139.09)\n"
     ]
    }
   ],
   "source": [
    "print('Анализ доверительных интервалов по ЦПТ со значением churn = False\\n')\n",
    "\n",
    "print(f\"Расчет на основе известного выборочного std: \"f\"({(f_mean - 1.96 * f_std / np.sqrt(f_len - 1)):.2f}, {round(f_mean + 1.96 * f_std / np.sqrt(f_len - 1), 2)})\")\n",
    "\n",
    "a = list(_zconfint_generic(f_mean,  f_std, alpha=0.05, alternative='two-sided'))\n",
    "print(\"Методом _zconfint_generic: {} \".format(str(round(a[0],2))),str(round(a[1],2)))\n",
    "\n",
    "print(f\"Если известно выборочное std (без учёта размера выборки):\"f\"({(f_mean - 1.96 * f_std):.2f}, {round(f_mean + 1.96 * f_std , 2)})\")\n"
   ]
  }
 ],
 "metadata": {
  "colab": {
   "collapsed_sections": [],
   "name": "Практика к занятию 12.ipynb",
   "provenance": []
  },
  "kernelspec": {
   "display_name": "Python 3 (ipykernel)",
   "language": "python",
   "name": "python3"
  },
  "language_info": {
   "codemirror_mode": {
    "name": "ipython",
    "version": 3
   },
   "file_extension": ".py",
   "mimetype": "text/x-python",
   "name": "python",
   "nbconvert_exporter": "python",
   "pygments_lexer": "ipython3",
   "version": "3.9.7"
  },
  "toc": {
   "base_numbering": 1,
   "nav_menu": {},
   "number_sections": true,
   "sideBar": true,
   "skip_h1_title": false,
   "title_cell": "Table of Contents",
   "title_sidebar": "Contents",
   "toc_cell": true,
   "toc_position": {},
   "toc_section_display": true,
   "toc_window_display": false
  }
 },
 "nbformat": 4,
 "nbformat_minor": 1
}
