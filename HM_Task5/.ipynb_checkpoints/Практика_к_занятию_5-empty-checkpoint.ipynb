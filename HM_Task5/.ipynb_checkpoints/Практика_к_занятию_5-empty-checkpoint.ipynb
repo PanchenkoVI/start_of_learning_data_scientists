{
 "cells": [
  {
   "cell_type": "markdown",
   "metadata": {
    "toc": true
   },
   "source": [
    "<h1>Table of Contents<span class=\"tocSkip\"></span></h1>\n",
    "<div class=\"toc\"><ul class=\"toc-item\"><li><span><a href=\"#Практика\" data-toc-modified-id=\"Практика-1\"><span class=\"toc-item-num\">1&nbsp;&nbsp;</span>Практика</a></span><ul class=\"toc-item\"><li><span><a href=\"#ЦПТ-для-различных-распределений\" data-toc-modified-id=\"ЦПТ-для-различных-распределений-1.1\"><span class=\"toc-item-num\">1.1&nbsp;&nbsp;</span>ЦПТ для различных распределений</a></span><ul class=\"toc-item\"><li><span><a href=\"#Сгенерируйте-примеры-из-распределения\" data-toc-modified-id=\"Сгенерируйте-примеры-из-распределения-1.1.1\"><span class=\"toc-item-num\">1.1.1&nbsp;&nbsp;</span>Сгенерируйте примеры из распределения</a></span></li><li><span><a href=\"#Постройте-гистограмму-выборки-и-теоретическую-плотность-распределения\" data-toc-modified-id=\"Постройте-гистограмму-выборки-и-теоретическую-плотность-распределения-1.1.2\"><span class=\"toc-item-num\">1.1.2&nbsp;&nbsp;</span>Постройте гистограмму выборки и теоретическую плотность распределения</a></span></li><li><span><a href=\"#Оценим-распределение-выборочного-среднего-для-разных-объёмов-выборок\" data-toc-modified-id=\"Оценим-распределение-выборочного-среднего-для-разных-объёмов-выборок-1.1.3\"><span class=\"toc-item-num\">1.1.3&nbsp;&nbsp;</span>Оценим распределение выборочного среднего для разных объёмов выборок</a></span></li></ul></li><li><span><a href=\"#Доверительный-интервал-на-основе-ЦПТ\" data-toc-modified-id=\"Доверительный-интервал-на-основе-ЦПТ-1.2\"><span class=\"toc-item-num\">1.2&nbsp;&nbsp;</span>Доверительный интервал на основе ЦПТ</a></span></li></ul></li></ul></div>"
   ]
  },
  {
   "cell_type": "markdown",
   "metadata": {
    "id": "pDrecLU-4QjS"
   },
   "source": [
    "# Практика"
   ]
  },
  {
   "cell_type": "code",
   "execution_count": 2,
   "metadata": {
    "id": "a6XFMuQUG6jO"
   },
   "outputs": [],
   "source": [
    "import pandas as pd\n",
    "import numpy as np\n",
    "import matplotlib.pyplot as plt\n",
    "import scipy.stats as sts\n",
    "import math\n",
    "%matplotlib inline\n",
    "import warnings\n",
    "warnings.filterwarnings('ignore')"
   ]
  },
  {
   "cell_type": "markdown",
   "metadata": {
    "id": "5owLnS0MHJnz"
   },
   "source": [
    "## ЦПТ для различных распределений\n",
    "Возьмите то непрерывное распределение, которое вам больше всего понравится из списка доступных в модуле [scipy.stats](https://docs.scipy.org/doc/scipy/reference/stats.html)."
   ]
  },
  {
   "cell_type": "markdown",
   "metadata": {
    "id": "v1IvIGF9IRgH"
   },
   "source": [
    "### Сгенерируйте примеры из распределения"
   ]
  },
  {
   "cell_type": "code",
   "execution_count": 3,
   "metadata": {
    "colab": {
     "base_uri": "https://localhost:8080/",
     "height": 377
    },
    "id": "l4oTC1NSHvl7",
    "outputId": "52df1553-6d91-4452-9ade-e2a62a8d7ff2"
   },
   "outputs": [
    {
     "data": {
      "text/plain": [
       "array([0.50077203, 0.06161954, 0.99698702, 0.76131722, 0.75090276,\n",
       "       0.56577973, 0.01000618, 0.77890152, 0.99279832, 0.96679114,\n",
       "       0.64478344, 0.63375329, 0.66933019, 0.04475955, 0.07084065,\n",
       "       0.56613347, 0.0142368 , 0.65452991, 0.65671918, 0.99647916,\n",
       "       0.96693   , 0.54744034, 0.06816955, 0.17200103, 0.54643758,\n",
       "       0.20129126, 0.04072356, 0.80123614, 0.99804438, 0.99464362,\n",
       "       0.12295833, 0.46866662, 0.25509281, 0.64532766, 0.98244164,\n",
       "       0.74679014, 0.0275871 , 0.979587  , 0.64401997, 0.99999736,\n",
       "       0.07643037, 0.07123019, 0.5997671 , 0.03463266, 0.02164138,\n",
       "       0.0243788 , 0.03351768, 0.87466231, 0.93397063, 0.91646991,\n",
       "       0.65792303, 0.10547406, 0.0129987 , 0.63575802, 0.9999934 ,\n",
       "       0.05084334, 0.01808481, 0.01532581, 0.93588887, 0.02965337,\n",
       "       0.98866363, 0.04898842, 0.99814429, 0.21937317, 0.07729126,\n",
       "       0.50622665, 0.9367889 , 0.03431596, 0.18676225, 0.73909538,\n",
       "       0.01577584, 0.0415643 , 0.09750587, 0.97017881, 0.01061678,\n",
       "       0.96889322, 0.63570101, 0.68804319, 0.40464621, 0.98022548,\n",
       "       0.53517415, 0.74342345, 0.96546318, 0.8465857 , 0.71354037,\n",
       "       0.80660056, 0.08443737, 0.09619089, 0.01254836, 0.60948078,\n",
       "       0.08053633, 0.42612012, 0.68482847, 0.69096987, 0.17575059,\n",
       "       0.01021878, 0.03386605, 0.71438573, 0.09249033, 0.11075886])"
      ]
     },
     "execution_count": 3,
     "metadata": {},
     "output_type": "execute_result"
    }
   ],
   "source": [
    "# ваш код тут\n",
    "# например вот такое распределение https://docs.scipy.org/doc/scipy/reference/generated/scipy.stats.cosine.html#scipy.stats.cosine\n",
    "arcsine_rv = sts.arcsine(0.01, 0.99)\n",
    "sample = arcsine_rv.rvs(100)\n",
    "sample"
   ]
  },
  {
   "cell_type": "code",
   "execution_count": 4,
   "metadata": {
    "colab": {
     "base_uri": "https://localhost:8080/",
     "height": 35
    },
    "id": "ScsjsI4oXgKR",
    "outputId": "86833794-f43b-436e-a0e4-c3b7483df016"
   },
   "outputs": [
    {
     "data": {
      "text/plain": [
       "dtype('float64')"
      ]
     },
     "execution_count": 4,
     "metadata": {},
     "output_type": "execute_result"
    }
   ],
   "source": [
    "sample.dtype"
   ]
  },
  {
   "cell_type": "code",
   "execution_count": 5,
   "metadata": {
    "id": "pXTNSqAOCYX4"
   },
   "outputs": [
    {
     "name": "stdout",
     "output_type": "stream",
     "text": [
      "0.505\n",
      "0.1225125\n"
     ]
    }
   ],
   "source": [
    "real_mean = arcsine_rv.mean() # настоящее среднее случайной величины\n",
    "real_var = arcsine_rv.var() # настоящая дисперсия случайной величины\n",
    "print(real_mean,real_var,sep='\\n')"
   ]
  },
  {
   "cell_type": "markdown",
   "metadata": {
    "id": "4bNn15giIX77"
   },
   "source": [
    "### Постройте гистограмму выборки и теоретическую плотность распределения"
   ]
  },
  {
   "cell_type": "code",
   "execution_count": 6,
   "metadata": {
    "colab": {
     "base_uri": "https://localhost:8080/",
     "height": 283
    },
    "id": "CwbvqecvIcXN",
    "outputId": "ace01d5d-2552-499b-bc4f-1eb19166af83"
   },
   "outputs": [
    {
     "data": {
      "text/plain": [
       "<matplotlib.legend.Legend at 0x7f8cca1da640>"
      ]
     },
     "execution_count": 6,
     "metadata": {},
     "output_type": "execute_result"
    },
    {
     "data": {
      "image/png": "[encoded data removed]",
      "text/plain": [
       "<Figure size 504x504 with 1 Axes>"
      ]
     },
     "metadata": {
      "needs_background": "light"
     },
     "output_type": "display_data"
    }
   ],
   "source": [
    "# ваш код тут\n",
    "plt.figure(figsize=(7,7))\n",
    "plt.hist(sample, density=True)\n",
    "x = np.linspace(-2,2,100)\n",
    "pdf = arcsine_rv.pdf(x)\n",
    "plt.plot(x, pdf, label='теоретическая плотность', alpha=0.5)\n",
    "plt.legend()"
   ]
  },
  {
   "cell_type": "code",
   "execution_count": 7,
   "metadata": {
    "colab": {
     "base_uri": "https://localhost:8080/",
     "height": 51
    },
    "id": "rKd5XFelBqe7",
    "outputId": "32773b82-a3e9-46a2-b06d-a94d667d4f66"
   },
   "outputs": [
    {
     "name": "stdout",
     "output_type": "stream",
     "text": [
      "0.4757764220696734\n",
      "0.13853111261624954\n"
     ]
    }
   ],
   "source": [
    "sample_mean = sample.mean() # выборочное среднее\n",
    "print(sample_mean)\n",
    "sample_var = sample.var() # выборочная дисперсия\n",
    "print(sample_var)"
   ]
  },
  {
   "cell_type": "markdown",
   "metadata": {
    "id": "qPuHR68NId_Z"
   },
   "source": [
    "### Оценим распределение выборочного среднего для разных объёмов выборок\n",
    "Для этого постройте на одном полотне гистограмму выборочных средних и теоретическое распределение выборочных средних по ЦПТ (центральная предельная теорема) для разных объёмов выборок.\n",
    "\n",
    "Для теоретического распределение используйте настоящие значения мат ожидания и дисперсии (не приближенные на основе выборки)."
   ]
  },
  {
   "cell_type": "code",
   "execution_count": 8,
   "metadata": {
    "id": "_mB8upK7J58w"
   },
   "outputs": [
    {
     "data": {
      "image/png": "[encoded data removed]",
      "text/plain": [
       "<Figure size 936x360 with 1 Axes>"
      ]
     },
     "metadata": {
      "needs_background": "light"
     },
     "output_type": "display_data"
    }
   ],
   "source": [
    "plt.figure(figsize=(13,5))\n",
    "\n",
    "for N in [10, 25, 50, 100, 1000, 10000, 100000]:\n",
    "    means = []\n",
    "    for i in range(1000):\n",
    "         means.append(np.mean(arcsine_rv.rvs(N)))\n",
    "    plt.hist(means, alpha=0.5)\n",
    "\n",
    "plt.legend(['10','25', '50', '100', '1000', '10000','100000'])\n",
    "plt.show()"
   ]
  },
  {
   "cell_type": "markdown",
   "metadata": {
    "id": "TF1onBy_J7sX"
   },
   "source": [
    "Как вы считаете, для выбранного распределения апроксимация распределения выборочного среднего работает хорошо или плохо?\n",
    "**Ваш ответ:**\n",
    "Чем больше значений тем уже график. Значения приближены к значениям дисперсии и средней арифметической. Однако при маленьких значениях выборки апроксимация ведет себя хаотично. "
   ]
  },
  {
   "cell_type": "markdown",
   "metadata": {
    "id": "xEyWxfjSfxGp"
   },
   "source": [
    "## Доверительный интервал на основе ЦПТ\n",
    "Возьмите данные для оттока телеком компании, и постройте доверительные интервалы для среднего значения total day calls, используя центральную предельную теорему в разбиении по колонке churn (ушел/не ушел). \n",
    "\n",
    "Для оценки дисперсии используйте несмещенную оценку (параметр ddof=1).\n",
    "\n",
    "Сделайте оценку с использованием явной формулы для z интервала, а затем с помощью функций \n",
    "`from statsmodels.stats.weightstats import _zconfint_generic`. Сравните результаты.\n",
    "\n",
    "\n",
    "Ссылка на данные: https://drive.google.com/file/d/1X_drKqoarnU2Sz2har7uSCsgyhh8Xtz8/view?usp=sharing"
   ]
  },
  {
   "cell_type": "code",
   "execution_count": 9,
   "metadata": {},
   "outputs": [],
   "source": [
    "# либо загружаем из альтернативного хранилища\n",
    "from statsmodels.stats.weightstats import _zconfint_generic\n",
    "\n",
    "url =\"https://raw.githubusercontent.com/piton1/DS/Lesson_5/telecom_churn.csv\"\n",
    "df=pd.read_csv(url)\n",
    "# display(df)"
   ]
  },
  {
   "cell_type": "code",
   "execution_count": 10,
   "metadata": {},
   "outputs": [
    {
     "name": "stdout",
     "output_type": "stream",
     "text": [
      "Осталось = 2850\n",
      "Всего ушло = 483\n",
      "\n",
      "Среднее значение по тем кто остался = 101.335\n",
      "Дисперсия по тем кто остался = 21.582\n",
      "\n",
      "Среднее значение по тем кто ушел = 100.283\n",
      "Дисперсия по тем кто ушел = 19.801\n"
     ]
    }
   ],
   "source": [
    "df1 = df[['churn','total day calls']]\n",
    "\n",
    "t_len = df1.value_counts('churn')[0]\n",
    "f_len = df1.value_counts('churn')[1]\n",
    "\n",
    "print('Осталось = ' + str(t_len))\n",
    "print('Всего ушло = ' + str(f_len))\n",
    "\n",
    "df2 = df1[df1['churn'] == True].copy()\n",
    "df3 = df1[df1['churn'] == False].copy()\n",
    "\n",
    "t_mean = df2['total day calls'].mean()\n",
    "t_std = df2['total day calls'].std(ddof=1)\n",
    "print('\\nСреднее значение по тем кто остался = ' + str(round(t_mean, 3)))\n",
    "print('Дисперсия по тем кто остался = ' + str(round(t_std,3)))\n",
    "\n",
    "f_mean = df3['total day calls'].mean()\n",
    "f_std = df3['total day calls'].std(ddof=1)\n",
    "print('\\nСреднее значение по тем кто ушел = ' + str(round(f_mean, 3)))\n",
    "print('Дисперсия по тем кто ушел = ' + str(round(f_std,3)))\n"
   ]
  },
  {
   "cell_type": "code",
   "execution_count": 19,
   "metadata": {},
   "outputs": [
    {
     "name": "stdout",
     "output_type": "stream",
     "text": [
      "Анализ доверительных интервалов по ЦПТ со значением churn = True\n",
      "\n",
      "Расчет на основе известного выборочного std: (100.54, 102.13)\n",
      "Методом _zconfint_generic: 100.54  102.13\n",
      "Если известно выборочное std (без учёта размера выборки):(100.54, 102.13)\n"
     ]
    }
   ],
   "source": [
    "print('Анализ доверительных интервалов по ЦПТ со значением churn = True\\n')\n",
    "\n",
    "print(f\"Расчет на основе известного выборочного std: \"f\"({(t_mean - 1.96 * t_std / np.sqrt(t_len - 1)):.2f}, {round(t_mean + 1.96 * t_std / np.sqrt(t_len - 1), 2)})\")\n",
    "\n",
    "a = list(_zconfint_generic(t_mean,  t_std / np.sqrt(t_len - 1), alpha=0.05, alternative='two-sided'))\n",
    "print(\"Методом _zconfint_generic: {} \".format(str(round(a[0],2))),str(round(a[1],2)))\n",
    "\n",
    "print(f\"Если известно выборочное std (без учёта размера выборки):\"f\"({(t_mean - 1.96 * t_std / np.sqrt(t_len - 1)):.2f}, {round(t_mean + 1.96 * t_std / np.sqrt(t_len - 1) , 2)})\")\n"
   ]
  },
  {
   "cell_type": "code",
   "execution_count": 14,
   "metadata": {},
   "outputs": [
    {
     "name": "stdout",
     "output_type": "stream",
     "text": [
      "Анализ доверительных интервалов по ЦПТ со значением churn = False\n",
      "\n",
      "Расчет на основе известного выборочного std: (98.52, 102.05)\n",
      "Методом _zconfint_generic: 98.52  102.05\n",
      "Если известно выборочное std (без учёта размера выборки):(98.52, 102.05)\n"
     ]
    }
   ],
   "source": [
    "print('Анализ доверительных интервалов по ЦПТ со значением churn = False\\n')\n",
    "\n",
    "print(f\"Расчет на основе известного выборочного std: \"f\"({(f_mean - 1.96 * f_std / np.sqrt(f_len - 1)):.2f}, {round(f_mean + 1.96 * f_std / np.sqrt(f_len - 1), 2)})\")\n",
    "\n",
    "a = list(_zconfint_generic(f_mean,  f_std / np.sqrt(f_len - 1), alpha=0.05, alternative='two-sided'))\n",
    "print(\"Методом _zconfint_generic: {} \".format(str(round(a[0],2))),str(round(a[1],2)))\n",
    "\n",
    "print(f\"Если известно выборочное std (без учёта размера выборки):\"f\"({(f_mean - 1.96 * f_std / np.sqrt(f_len - 1)):.2f}, {round(f_mean + 1.96 * f_std / np.sqrt(f_len - 1) , 2)})\")\n"
   ]
  },
  {
   "cell_type": "code",
   "execution_count": null,
   "metadata": {},
   "outputs": [],
   "source": []
  },
  {
   "cell_type": "code",
   "execution_count": null,
   "metadata": {},
   "outputs": [],
   "source": []
  }
 ],
 "metadata": {
  "colab": {
   "collapsed_sections": [],
   "name": "Практика к занятию 12.ipynb",
   "provenance": []
  },
  "kernelspec": {
   "display_name": "Python 3 (ipykernel)",
   "language": "python",
   "name": "python3"
  },
  "language_info": {
   "codemirror_mode": {
    "name": "ipython",
    "version": 3
   },
   "file_extension": ".py",
   "mimetype": "text/x-python",
   "name": "python",
   "nbconvert_exporter": "python",
   "pygments_lexer": "ipython3",
   "version": "3.9.7"
  },
  "toc": {
   "base_numbering": 1,
   "nav_menu": {},
   "number_sections": true,
   "sideBar": true,
   "skip_h1_title": false,
   "title_cell": "Table of Contents",
   "title_sidebar": "Contents",
   "toc_cell": true,
   "toc_position": {},
   "toc_section_display": true,
   "toc_window_display": false
  }
 },
 "nbformat": 4,
 "nbformat_minor": 1
}
