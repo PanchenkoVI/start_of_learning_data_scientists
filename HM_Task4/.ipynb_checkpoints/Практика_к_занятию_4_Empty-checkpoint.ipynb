{
 "cells": [
  {
   "cell_type": "markdown",
   "metadata": {
    "toc": true
   },
   "source": [
    "<h1>Table of Contents<span class=\"tocSkip\"></span></h1>\n",
    "<div class=\"toc\"><ul class=\"toc-item\"><li><span><a href=\"#Практика\" data-toc-modified-id=\"Практика-1\"><span class=\"toc-item-num\">1&nbsp;&nbsp;</span>Практика</a></span><ul class=\"toc-item\"><li><span><a href=\"#Загрузка-DataFrame\" data-toc-modified-id=\"Загрузка-DataFrame-1.1\"><span class=\"toc-item-num\">1.1&nbsp;&nbsp;</span>Загрузка DataFrame</a></span><ul class=\"toc-item\"><li><span><a href=\"#Задача-1\" data-toc-modified-id=\"Задача-1-1.1.1\"><span class=\"toc-item-num\">1.1.1&nbsp;&nbsp;</span>Задача 1</a></span></li></ul></li><li><span><a href=\"#Теория-вероятности.-События\" data-toc-modified-id=\"Теория-вероятности.-События-1.2\"><span class=\"toc-item-num\">1.2&nbsp;&nbsp;</span>Теория вероятности. События</a></span><ul class=\"toc-item\"><li><span><a href=\"#Задача-2\" data-toc-modified-id=\"Задача-2-1.2.1\"><span class=\"toc-item-num\">1.2.1&nbsp;&nbsp;</span>Задача 2</a></span></li><li><span><a href=\"#Задача-3\" data-toc-modified-id=\"Задача-3-1.2.2\"><span class=\"toc-item-num\">1.2.2&nbsp;&nbsp;</span>Задача 3</a></span></li></ul></li></ul></li></ul></div>"
   ]
  },
  {
   "cell_type": "markdown",
   "metadata": {
    "id": "pDrecLU-4QjS"
   },
   "source": [
    "# Практика\n",
    "Используемые библиотеки"
   ]
  },
  {
   "cell_type": "code",
   "execution_count": 2,
   "metadata": {},
   "outputs": [],
   "source": [
    "import pandas as pd\n",
    "import numpy as np\n",
    "import requests # for web-download\n",
    "import io # for web-download\n",
    "import re # for data processing\n",
    "import math as m\n",
    "import random\n",
    "from tqdm.auto import tqdm\n",
    "import matplotlib.pyplot as plt\n",
    "import warnings\n",
    "warnings.filterwarnings('ignore')"
   ]
  },
  {
   "cell_type": "markdown",
   "metadata": {},
   "source": [
    "## Загрузка DataFrame\n",
    "### Задача 1\n",
    "На основании данных портала \"Открытые данные России\" о результатах Химического анализа родника в Нескучном саду https://data.gov.ru/opendata/7708660670-rodnik-neskuchniy-sad\n",
    "средствами библиотеки __Pandas__ сформируйте поле выводов по каждому анализирумомому параметру.\n",
    "Например, по показателю _pH_ получен результат _8.4 единицы pH_ при нормативе от _6 до 9 единиц pH_. Т.о. по данному показателю результат анализа в норме.\n",
    "Для решения задачи необходимо программно \"прочитать и понять\" значение столбца \"Норматив\" и выделенное численное значение сравнить с нормативом согласно логике норматива. Например, __6 >= pH >= 9__.\n",
    "В итоговом DataFrame столбец \"Показатель\" сделайте индексным.\n",
    "\n",
    "\n",
    "Загзрузка DataFrame выполняется непосредственно c сайта \"Открытые данные России\" https://data.gov.ru/opendata/7708660670-rodnik-neskuchniy-sad/data-20160608T1215-structure-20160608T1215.csv (см. код ниже).\n"
   ]
  },
  {
   "cell_type": "code",
   "execution_count": 3,
   "metadata": {},
   "outputs": [
    {
     "data": {
      "text/html": [
       "<div>\n",
       "<style scoped>\n",
       "    .dataframe tbody tr th:only-of-type {\n",
       "        vertical-align: middle;\n",
       "    }\n",
       "\n",
       "    .dataframe tbody tr th {\n",
       "        vertical-align: top;\n",
       "    }\n",
       "\n",
       "    .dataframe thead th {\n",
       "        text-align: right;\n",
       "    }\n",
       "</style>\n",
       "<table border=\"1\" class=\"dataframe\">\n",
       "  <thead>\n",
       "    <tr style=\"text-align: right;\">\n",
       "      <th></th>\n",
       "      <th>Показатель</th>\n",
       "      <th>Единица измерений</th>\n",
       "      <th>Результат анализа</th>\n",
       "      <th>Норматив</th>\n",
       "    </tr>\n",
       "  </thead>\n",
       "  <tbody>\n",
       "    <tr>\n",
       "      <th>0</th>\n",
       "      <td>pH</td>\n",
       "      <td>единицы pH</td>\n",
       "      <td>8.4</td>\n",
       "      <td>в пределах 6-9</td>\n",
       "    </tr>\n",
       "    <tr>\n",
       "      <th>1</th>\n",
       "      <td>Запах</td>\n",
       "      <td>баллы</td>\n",
       "      <td>1</td>\n",
       "      <td>не более 2-3</td>\n",
       "    </tr>\n",
       "    <tr>\n",
       "      <th>2</th>\n",
       "      <td>Цветность</td>\n",
       "      <td>градусы</td>\n",
       "      <td>б/цвета</td>\n",
       "      <td>не более 30</td>\n",
       "    </tr>\n",
       "    <tr>\n",
       "      <th>3</th>\n",
       "      <td>Жёсткость</td>\n",
       "      <td>мг-эквл/дм3</td>\n",
       "      <td>9.199999999999999</td>\n",
       "      <td>в пределах 7-10</td>\n",
       "    </tr>\n",
       "    <tr>\n",
       "      <th>4</th>\n",
       "      <td>Аммиак и аммоний-ион (по азоту)</td>\n",
       "      <td>мг/дм3</td>\n",
       "      <td>0.42</td>\n",
       "      <td>не более 1,5</td>\n",
       "    </tr>\n",
       "    <tr>\n",
       "      <th>5</th>\n",
       "      <td>Нитриты (по NO2)</td>\n",
       "      <td>мг/дм3</td>\n",
       "      <td>0.017</td>\n",
       "      <td>не более 3,3</td>\n",
       "    </tr>\n",
       "    <tr>\n",
       "      <th>6</th>\n",
       "      <td>Нитраты (по NO3)</td>\n",
       "      <td>мг/дм3</td>\n",
       "      <td>24</td>\n",
       "      <td>не более 45</td>\n",
       "    </tr>\n",
       "    <tr>\n",
       "      <th>7</th>\n",
       "      <td>Фосфаты (P)</td>\n",
       "      <td>мг/дм3</td>\n",
       "      <td>0.36</td>\n",
       "      <td>не более 3,5</td>\n",
       "    </tr>\n",
       "    <tr>\n",
       "      <th>8</th>\n",
       "      <td>Хлориды (Cl)</td>\n",
       "      <td>мг/дм3</td>\n",
       "      <td>200</td>\n",
       "      <td>не более 350</td>\n",
       "    </tr>\n",
       "    <tr>\n",
       "      <th>9</th>\n",
       "      <td>Сульфаты (SO4)</td>\n",
       "      <td>мг/дм3</td>\n",
       "      <td>189.5</td>\n",
       "      <td>не более 500</td>\n",
       "    </tr>\n",
       "    <tr>\n",
       "      <th>10</th>\n",
       "      <td>Железо (включая хлорное железо) по Fe</td>\n",
       "      <td>мг/дм3</td>\n",
       "      <td>0.019</td>\n",
       "      <td>не более 0,3</td>\n",
       "    </tr>\n",
       "    <tr>\n",
       "      <th>11</th>\n",
       "      <td>Нефть</td>\n",
       "      <td>мг/дм3</td>\n",
       "      <td>0.55</td>\n",
       "      <td>не более 0,3</td>\n",
       "    </tr>\n",
       "    <tr>\n",
       "      <th>12</th>\n",
       "      <td>Общая минерализация (сухой остаток)</td>\n",
       "      <td>мг/дм3</td>\n",
       "      <td>590</td>\n",
       "      <td>не более 1000</td>\n",
       "    </tr>\n",
       "    <tr>\n",
       "      <th>13</th>\n",
       "      <td>Окисляемость перманганатная</td>\n",
       "      <td>мг/дм3</td>\n",
       "      <td>2</td>\n",
       "      <td>не более 0,5</td>\n",
       "    </tr>\n",
       "  </tbody>\n",
       "</table>\n",
       "</div>"
      ],
      "text/plain": [
       "                               Показатель Единица измерений  \\\n",
       "0                                      pH        единицы pH   \n",
       "1                                   Запах             баллы   \n",
       "2                               Цветность           градусы   \n",
       "3                               Жёсткость       мг-эквл/дм3   \n",
       "4         Аммиак и аммоний-ион (по азоту)            мг/дм3   \n",
       "5                        Нитриты (по NO2)            мг/дм3   \n",
       "6                        Нитраты (по NO3)            мг/дм3   \n",
       "7                             Фосфаты (P)            мг/дм3   \n",
       "8                            Хлориды (Cl)            мг/дм3   \n",
       "9                          Сульфаты (SO4)            мг/дм3   \n",
       "10  Железо (включая хлорное железо) по Fe            мг/дм3   \n",
       "11                                  Нефть            мг/дм3   \n",
       "12    Общая минерализация (сухой остаток)            мг/дм3   \n",
       "13            Окисляемость перманганатная            мг/дм3   \n",
       "\n",
       "    Результат анализа         Норматив  \n",
       "0                 8.4   в пределах 6-9  \n",
       "1                   1     не более 2-3  \n",
       "2             б/цвета      не более 30  \n",
       "3   9.199999999999999  в пределах 7-10  \n",
       "4                0.42     не более 1,5  \n",
       "5               0.017     не более 3,3  \n",
       "6                  24      не более 45  \n",
       "7                0.36     не более 3,5  \n",
       "8                 200     не более 350  \n",
       "9               189.5     не более 500  \n",
       "10              0.019     не более 0,3  \n",
       "11               0.55     не более 0,3  \n",
       "12                590    не более 1000  \n",
       "13                  2     не более 0,5  "
      ]
     },
     "metadata": {},
     "output_type": "display_data"
    }
   ],
   "source": [
    "headers={\n",
    "    'User-Agent': 'Mozilla/5.0 (X11; Ubuntu; Linux x86_64; rv:52.0) Gecko/20100101 Firefox/52.0',\n",
    "}\n",
    "url =\"https://data.gov.ru/opendata/7708660670-rodnik-neskuchniy-sad/data-20160608T1215-structure-20160608T1215.csv\"\n",
    "\n",
    "def get_content(url):\n",
    "    with requests.Session() as req:\n",
    "        req.headers.update(headers)\n",
    "        r = req.get(url).content\n",
    "    return r\n",
    "\n",
    "s = get_content(url)\n",
    "df=pd.read_csv(io.StringIO(s.decode('UTF8')))\n",
    "\n",
    "\n",
    "### Если не работает загрузка on-line\n",
    "#df=pd.read_csv(\"Химический анализ родника в Нескучном саду.csv\", sep=';')\n",
    "display(df)"
   ]
  },
  {
   "cell_type": "code",
   "execution_count": 4,
   "metadata": {},
   "outputs": [
    {
     "data": {
      "text/html": [
       "<div>\n",
       "<style scoped>\n",
       "    .dataframe tbody tr th:only-of-type {\n",
       "        vertical-align: middle;\n",
       "    }\n",
       "\n",
       "    .dataframe tbody tr th {\n",
       "        vertical-align: top;\n",
       "    }\n",
       "\n",
       "    .dataframe thead th {\n",
       "        text-align: right;\n",
       "    }\n",
       "</style>\n",
       "<table border=\"1\" class=\"dataframe\">\n",
       "  <thead>\n",
       "    <tr style=\"text-align: right;\">\n",
       "      <th></th>\n",
       "      <th>Результат</th>\n",
       "    </tr>\n",
       "    <tr>\n",
       "      <th>Показатель</th>\n",
       "      <th></th>\n",
       "    </tr>\n",
       "  </thead>\n",
       "  <tbody>\n",
       "    <tr>\n",
       "      <th>pH</th>\n",
       "      <td>В норме</td>\n",
       "    </tr>\n",
       "    <tr>\n",
       "      <th>Запах</th>\n",
       "      <td>В норме</td>\n",
       "    </tr>\n",
       "    <tr>\n",
       "      <th>Цветность</th>\n",
       "      <td>В норме</td>\n",
       "    </tr>\n",
       "    <tr>\n",
       "      <th>Жёсткость</th>\n",
       "      <td>В норме</td>\n",
       "    </tr>\n",
       "    <tr>\n",
       "      <th>Аммиак и аммоний-ион (по азоту)</th>\n",
       "      <td>В норме</td>\n",
       "    </tr>\n",
       "    <tr>\n",
       "      <th>Нитриты (по NO2)</th>\n",
       "      <td>В норме</td>\n",
       "    </tr>\n",
       "    <tr>\n",
       "      <th>Нитраты (по NO3)</th>\n",
       "      <td>В норме</td>\n",
       "    </tr>\n",
       "    <tr>\n",
       "      <th>Фосфаты (P)</th>\n",
       "      <td>В норме</td>\n",
       "    </tr>\n",
       "    <tr>\n",
       "      <th>Хлориды (Cl)</th>\n",
       "      <td>В норме</td>\n",
       "    </tr>\n",
       "    <tr>\n",
       "      <th>Сульфаты (SO4)</th>\n",
       "      <td>В норме</td>\n",
       "    </tr>\n",
       "    <tr>\n",
       "      <th>Железо (включая хлорное железо) по Fe</th>\n",
       "      <td>В норме</td>\n",
       "    </tr>\n",
       "    <tr>\n",
       "      <th>Нефть</th>\n",
       "      <td>Отклонение</td>\n",
       "    </tr>\n",
       "    <tr>\n",
       "      <th>Общая минерализация (сухой остаток)</th>\n",
       "      <td>В норме</td>\n",
       "    </tr>\n",
       "    <tr>\n",
       "      <th>Окисляемость перманганатная</th>\n",
       "      <td>Отклонение</td>\n",
       "    </tr>\n",
       "  </tbody>\n",
       "</table>\n",
       "</div>"
      ],
      "text/plain": [
       "                                        Результат\n",
       "Показатель                                       \n",
       "pH                                        В норме\n",
       "Запах                                     В норме\n",
       "Цветность                                 В норме\n",
       "Жёсткость                                 В норме\n",
       "Аммиак и аммоний-ион (по азоту)           В норме\n",
       "Нитриты (по NO2)                          В норме\n",
       "Нитраты (по NO3)                          В норме\n",
       "Фосфаты (P)                               В норме\n",
       "Хлориды (Cl)                              В норме\n",
       "Сульфаты (SO4)                            В норме\n",
       "Железо (включая хлорное железо) по Fe     В норме\n",
       "Нефть                                  Отклонение\n",
       "Общая минерализация (сухой остаток)       В норме\n",
       "Окисляемость перманганатная            Отклонение"
      ]
     },
     "execution_count": 4,
     "metadata": {},
     "output_type": "execute_result"
    }
   ],
   "source": [
    "# Ваше решение\n",
    "\n",
    "class Opendata():\n",
    "    \n",
    "    def __init__(self):\n",
    "        self.headers = {'User-Agent': 'Mozilla/5.0 (X11; Ubuntu; Linux x86_64; rv:52.0) Gecko/20100101 Firefox/52.0'}\n",
    "        self.url =\"https://data.gov.ru/opendata/7708660670-rodnik-neskuchniy-sad/data-20160608T1215-structure-20160608T1215.csv\"\n",
    "        self.df = pd.DataFrame()\n",
    "        \n",
    "    def get_content(self):\n",
    "        headers = self.headers\n",
    "        \n",
    "        with requests.Session() as req:\n",
    "            req.headers.update(headers)\n",
    "            r = req.get(self.url).content\n",
    "        return r\n",
    "    \n",
    "    def get_new_result(self):\n",
    "        \n",
    "        self.df['Результат_анализа_2'] = pd.to_numeric(self.df['Результат анализа'], errors='coerce').fillna(0)\n",
    "        self.df['Норматив2'] = self.df.get('Норматив').apply(lambda row: re.findall(r'\\d.+', row.replace(',','.')) if row.find(\",\") != -1 else np.nan)\n",
    "        self.df['Норматив3'] = self.df.get('Норматив').apply(lambda row: re.findall(r'\\d+', row) if row.find(\",\") == -1 else np.nan)   \n",
    "        self.df['Норматив2'] = self.df['Норматив2'].fillna(self.df['Норматив3'])\n",
    "        self.df['Норматив2'] = self.df['Норматив2'].apply(lambda row: list(map(float, row)))\n",
    "        self.df['Норматив3'] = self.df.get('Норматив2').apply(lambda row: len(row))\n",
    "        self.df = self.df.rename(columns = {'Норматив3':'Len'})\n",
    "        self.df['min'] = self.df.get('Норматив2').apply(lambda row: min(row))\n",
    "        self.df['max'] = self.df.get('Норматив2').apply(lambda row: max(row))\n",
    "        self.df['test'] = self.df.get('Норматив').apply(lambda row: bool(re.search(\"не более\", row)))\n",
    "        \n",
    "        \n",
    "        self.df.loc[((self.df['Len'] < 2) | (self.df['test'] == True)) & (self.df['Результат_анализа_2'] <= self.df['max']), 'Результат'] = 'В норме'\n",
    "        self.df.loc[(self.df['Len'] < 2) & (self.df['Результат_анализа_2'] > self.df['min']), 'Результат'] = 'Отклонение'\n",
    "        \n",
    "        self.df.loc[(self.df['Len'] > 1) & (self.df['test'] == False) & (self.df['Результат_анализа_2'] >= self.df['min']) & (self.df['Результат_анализа_2'] <= self.df['max']), 'Результат'] = 'В норме'\n",
    "        self.df.loc[(self.df['Len'] > 1) & (self.df['test'] == False) & ((self.df['Результат_анализа_2'] < self.df['min']) | (self.df['Результат_анализа_2'] > self.df['max'])), 'Результат'] = 'Отклонение'      \n",
    "\n",
    "        self.df2 = self.df[['Показатель','Результат']]\n",
    "        self.df2 = self.df2.set_index('Показатель')\n",
    "        \n",
    "    def main(self):\n",
    "        s = self.get_content()\n",
    "        self.df = pd.read_csv(io.StringIO(s.decode('UTF8')))\n",
    "        self.get_new_result()\n",
    "        return self.df2\n",
    "        \n",
    "o = Opendata()    \n",
    "a = o.main()\n",
    "a\n"
   ]
  },
  {
   "cell_type": "markdown",
   "metadata": {
    "id": "gUvTNDlMaV-a"
   },
   "source": [
    "## Теория вероятности. События\n",
    "\n",
    "Требуется сгенерировать необходимые выборки и произвести по ним расчеты"
   ]
  },
  {
   "cell_type": "markdown",
   "metadata": {
    "id": "gUvTNDlMaV-a"
   },
   "source": [
    "###  Задача 2\n",
    "\n",
    "В ящике 5 апельсинов и 4 яблока. Наудачу выбираются 3 фрукта. Какова вероятность, что все три фрукта – апельсины?\n",
    "\n",
    "В интернете полученный аналитически ответ 0.119. Подтверждается ли он эксперементально?\n"
   ]
  },
  {
   "cell_type": "code",
   "execution_count": 5,
   "metadata": {},
   "outputs": [
    {
     "name": "stdout",
     "output_type": "stream",
     "text": [
      "Аналитический ответ = 0.119\n"
     ]
    },
    {
     "data": {
      "application/vnd.jupyter.widget-view+json": {
       "model_id": "9bd2900d7f3b4e97b8749b59eac5628a",
       "version_major": 2,
       "version_minor": 0
      },
      "text/plain": [
       "  0%|          | 0/100 [00:00<?, ?it/s]"
      ]
     },
     "metadata": {},
     "output_type": "display_data"
    },
    {
     "data": {
      "image/png": "[encoded data removed]",
      "text/plain": [
       "<Figure size 432x288 with 1 Axes>"
      ]
     },
     "metadata": {
      "needs_background": "light"
     },
     "output_type": "display_data"
    },
    {
     "name": "stdout",
     "output_type": "stream",
     "text": [
      "Эксперементальный среднее арифметический ответ = 0.119\n"
     ]
    }
   ],
   "source": [
    "# Ваше решение\n",
    "\n",
    "class Task_2:\n",
    "    \n",
    "    def __init__(self, apple, orange, cnt):\n",
    "        self.orange = orange\n",
    "        self.apple = apple\n",
    "        self.cnt = cnt\n",
    "    \n",
    "    def analytical_calculation_for_orange(self):\n",
    "        \n",
    "        return (round((m.factorial(self.orange) / (m.factorial(self.cnt) * m.factorial(self.orange - self.cnt))) \\\n",
    "                                                /  \\\n",
    "                (m.factorial(self.apple + self.orange)/(m.factorial(self.cnt) * m.factorial(self.apple + self.orange - self.cnt))),3)) \n",
    "    \n",
    "    def experimentally_calculation_for_orange(self,cnt):\n",
    "        lst = []\n",
    "        lst2 = []\n",
    "        \n",
    "        for i in tqdm(range(cnt)):\n",
    "            len_ = 0\n",
    "            for j in range(10000):\n",
    "                n = self.orange\n",
    "                m = self.apple\n",
    "                for t in range(3):\n",
    "                    sample = []\n",
    "                    sample = random.choices(['orange', 'apple'], weights=[n, m])\n",
    "                    if 'orange' in sample:\n",
    "                        n = n - 1\n",
    "                    else:\n",
    "                        m = m - 1\n",
    "                    if n == 2:\n",
    "                        len_ = len_ + 1\n",
    "            lst.append(len_ / 10000)\n",
    "            lst2.append(i+1)\n",
    "        plt.errorbar(lst2, lst)\n",
    "        plt.grid()\n",
    "        plt.ylabel('Значение')\n",
    "        plt.xlabel('Номер выборки')\n",
    "        plt.title('График волатильности эксперементальных значений')\n",
    "        plt.show()\n",
    "        return round(np.mean(lst),3)\n",
    "\n",
    "t = Task_2(4,5,3) # яблоки/апельсины/сколько доставили фруктов\n",
    "print('Аналитический ответ =', end=' ')\n",
    "print(round(t.analytical_calculation_for_orange(),3))\n",
    "a = t.experimentally_calculation_for_orange(100)\n",
    "print('Эксперементальный среднее арифметический ответ =', end=' ')\n",
    "print(a)\n"
   ]
  },
  {
   "cell_type": "markdown",
   "metadata": {
    "id": "gUvTNDlMaV-a"
   },
   "source": [
    "Выводы\n",
    "\n",
    "Чем больше в экспеременатльной выборке значений, тем чаще выпадает приближенное значение полученное аналитическим способом.\n",
    "На графике отображены результаты полученные эксперементальным путем.\n",
    "Можно обратить внимание что значение полученное аналитическим путем расположено посередине графика.\n",
    "Нет определенного значения показывающего истинное значение."
   ]
  },
  {
   "cell_type": "markdown",
   "metadata": {
    "id": "g7A7QlvGTnwZ"
   },
   "source": [
    "### Задача 3\n",
    "Мастер, имея 10 деталей, из которых 3 – нестандартных, проверяет детали одну за другой, пока ему не попадется стандартная. Какова вероятность, что он проверит ровно две детали?\n",
    "\n",
    "\n",
    "В интернете полученный аналитически ответ 7/30 или 0.23333. Подтверждается ли он эксперементально?"
   ]
  },
  {
   "cell_type": "code",
   "execution_count": 7,
   "metadata": {},
   "outputs": [
    {
     "name": "stdout",
     "output_type": "stream",
     "text": [
      "Аналитический ответ = 0.233\n"
     ]
    },
    {
     "data": {
      "application/vnd.jupyter.widget-view+json": {
       "model_id": "6ba5a805328349d881a93bd958dc8269",
       "version_major": 2,
       "version_minor": 0
      },
      "text/plain": [
       "  0%|          | 0/100 [00:00<?, ?it/s]"
      ]
     },
     "metadata": {},
     "output_type": "display_data"
    },
    {
     "data": {
      "image/png": "[encoded data removed]",
      "text/plain": [
       "<Figure size 432x288 with 1 Axes>"
      ]
     },
     "metadata": {
      "needs_background": "light"
     },
     "output_type": "display_data"
    },
    {
     "name": "stdout",
     "output_type": "stream",
     "text": [
      "Эксперементальный среднее арифметический ответ = 0.233\n"
     ]
    }
   ],
   "source": [
    "# Ваше решение\n",
    "\n",
    "class Task_3:\n",
    "    \n",
    "    def __init__(self, standard, non_standard):\n",
    "        self.standard = standard\n",
    "        self.non_standard = non_standard\n",
    "        self.all_detail = standard + non_standard\n",
    "        \n",
    "    def analytical_calculation_for_orange(self):\n",
    "        \n",
    "        d = self.non_standard / self.all_detail * self.standard / (self.all_detail - 1)\n",
    "        return d\n",
    "    \n",
    "    def experimentally_calculation_for_orange(self,cnt):\n",
    "        lst = []\n",
    "        lst2 = []\n",
    "        \n",
    "        for i in tqdm(range(cnt)):\n",
    "            len_ = 0\n",
    "            for j in range(10000):\n",
    "                n = self.standard\n",
    "                m = self.non_standard\n",
    "                for t in range(3):\n",
    "                    sample = []\n",
    "                    sample = random.choices(['standard', 'non_standard'], weights=[n, m])\n",
    "                    if 'standard' in sample:\n",
    "                        n = n - 1\n",
    "                    else:\n",
    "                        m = m - 1\n",
    "                    if t == 0 and n < 7:\n",
    "                        break\n",
    "                    if t == 1 and n < 7:\n",
    "                        len_ = len_ + 1\n",
    "            lst.append(len_ / 10000)\n",
    "            lst2.append(i + 1)\n",
    "        plt.errorbar(lst2, lst)\n",
    "        plt.grid()\n",
    "        plt.ylabel('Значение')\n",
    "        plt.xlabel('Номер выборки')\n",
    "        plt.title('График волатильности эксперементальных значений')\n",
    "        plt.show()\n",
    "        return round(np.mean(lst),3)\n",
    "\n",
    "t = Task_3(7,3)\n",
    "print('Аналитический ответ =', end=' ')\n",
    "print(round(t.analytical_calculation_for_orange(), 3))\n",
    "\n",
    "a = t.experimentally_calculation_for_orange(100)\n",
    "print('Эксперементальный среднее арифметический ответ =', end=' ')\n",
    "print(a)"
   ]
  },
  {
   "cell_type": "code",
   "execution_count": null,
   "metadata": {},
   "outputs": [],
   "source": []
  }
 ],
 "metadata": {
  "celltoolbar": "Raw Cell Format",
  "colab": {
   "collapsed_sections": [],
   "name": "Практика к занятию 11.ipynb",
   "provenance": []
  },
  "kernelspec": {
   "display_name": "Python 3 (ipykernel)",
   "language": "python",
   "name": "python3"
  },
  "language_info": {
   "codemirror_mode": {
    "name": "ipython",
    "version": 3
   },
   "file_extension": ".py",
   "mimetype": "text/x-python",
   "name": "python",
   "nbconvert_exporter": "python",
   "pygments_lexer": "ipython3",
   "version": "3.9.7"
  },
  "toc": {
   "base_numbering": 1,
   "nav_menu": {},
   "number_sections": true,
   "sideBar": true,
   "skip_h1_title": false,
   "title_cell": "Table of Contents",
   "title_sidebar": "Contents",
   "toc_cell": true,
   "toc_position": {},
   "toc_section_display": true,
   "toc_window_display": false
  }
 },
 "nbformat": 4,
 "nbformat_minor": 1
}
